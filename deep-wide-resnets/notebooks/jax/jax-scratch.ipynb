{
 "cells": [
  {
   "cell_type": "code",
   "execution_count": 1,
   "id": "a3904dce",
   "metadata": {},
   "outputs": [],
   "source": [
    "%matplotlib inline\n",
    "%load_ext autoreload\n",
    "%autoreload 2"
   ]
  },
  {
   "cell_type": "code",
   "execution_count": 2,
   "id": "c4f7956d",
   "metadata": {},
   "outputs": [
    {
     "name": "stderr",
     "output_type": "stream",
     "text": [
      "/Users/karlhajjar/Documents/projects/deep-wide-resnets/env/lib/python3.9/site-packages/tqdm/auto.py:22: TqdmWarning: IProgress not found. Please update jupyter and ipywidgets. See https://ipywidgets.readthedocs.io/en/stable/user_install.html\n",
      "  from .autonotebook import tqdm as notebook_tqdm\n"
     ]
    }
   ],
   "source": [
    "# Standard packages\n",
    "import os\n",
    "import torch\n",
    "import matplotlib.pyplot as plt\n",
    "import seaborn as sns\n",
    "sns.set_style('darkgrid')\n",
    "from copy import deepcopy\n",
    "\n",
    "import scipy\n",
    "from scipy import special as s\n",
    "import pandas as pd\n",
    "import numpy\n",
    "import math\n",
    "from time import time\n",
    "from tqdm import tqdm"
   ]
  },
  {
   "cell_type": "code",
   "execution_count": 3,
   "id": "a876f9f1",
   "metadata": {},
   "outputs": [],
   "source": [
    "cwd = os.getcwd()\n",
    "NOTEBOOK_DIR = os.path.dirname(os.path.dirname(cwd+'/'))\n",
    "ROOT = os.path.dirname(NOTEBOOK_DIR)"
   ]
  },
  {
   "cell_type": "code",
   "execution_count": 4,
   "id": "ca0d4d88",
   "metadata": {},
   "outputs": [],
   "source": [
    "# Custom packages\n",
    "import sys\n",
    "sys.path.append(ROOT)\n",
    "from utils.plot import *\n",
    "from utils.tools import *\n",
    "from utils.nn import TARGET_FUNCS_DICT, LOSS_DICT\n",
    "from networks.muP_resnet import MuPResNet\n",
    "from layers.jax.residual import Residual"
   ]
  },
  {
   "cell_type": "code",
   "execution_count": 5,
   "id": "ef703c9f",
   "metadata": {},
   "outputs": [],
   "source": [
    "# JAX packages\n",
    "import jax\n",
    "from jax import jit\n",
    "import haiku as hk\n",
    "import jax.numpy as jnp"
   ]
  },
  {
   "cell_type": "markdown",
   "id": "19115017",
   "metadata": {},
   "source": [
    "# Constants"
   ]
  },
  {
   "cell_type": "code",
   "execution_count": 6,
   "id": "3ec4b544",
   "metadata": {},
   "outputs": [],
   "source": [
    "INPUT_DIM = 64 #30\n",
    "WIDTH = 256 #512 #512 # 512 #40 # 256\n",
    "#D_MODEL = 128\n",
    "N_RES = 500 #1000\n",
    "BIAS = False\n",
    "ALPHA = 1.0\n",
    "SCALE = 1.0\n",
    "ACTIVATION = 'relu'\n",
    "\n",
    "SEED = 42\n",
    "BATCH_SIZE = 64\n",
    "#N_TRIALS = 10 #10\n",
    "BASE_LR = 1.0e-2\n",
    "N_STEPS = int(4.0e3)\n",
    "N_VAL = 500\n",
    "VAL_ITER = 50\n",
    "alpha = 1 / N_RES"
   ]
  },
  {
   "cell_type": "code",
   "execution_count": 7,
   "id": "9bf24310",
   "metadata": {},
   "outputs": [],
   "source": [
    "RNG_KEY = jax.random.PRNGKey(42)\n",
    "key_0, key_1 = jax.random.split(key=RNG_KEY, num=2)"
   ]
  },
  {
   "cell_type": "markdown",
   "id": "52539e75",
   "metadata": {},
   "source": [
    "# Net"
   ]
  },
  {
   "cell_type": "code",
   "execution_count": 8,
   "id": "140ea22e",
   "metadata": {},
   "outputs": [],
   "source": [
    "from layers.jax.residual import Residual"
   ]
  },
  {
   "cell_type": "code",
   "execution_count": 9,
   "id": "21039a44",
   "metadata": {},
   "outputs": [],
   "source": [
    "def _forward_fn(x):\n",
    "    net = Residual(d=WIDTH, width=WIDTH, activation=ACTIVATION, bias=BIAS, alpha=alpha)\n",
    "    return net(x)"
   ]
  },
  {
   "cell_type": "code",
   "execution_count": 10,
   "id": "ca90e8a2",
   "metadata": {},
   "outputs": [],
   "source": [
    "forward_fn = hk.without_apply_rng(hk.transform(_forward_fn))"
   ]
  },
  {
   "cell_type": "code",
   "execution_count": 11,
   "id": "1860a544",
   "metadata": {
    "scrolled": true
   },
   "outputs": [],
   "source": [
    "x = jax.random.normal(key=key_0, shape=(WIDTH,))"
   ]
  },
  {
   "cell_type": "code",
   "execution_count": 12,
   "id": "d7b2b982",
   "metadata": {},
   "outputs": [
    {
     "ename": "TypeError",
     "evalue": "unexpected PRNG key type <class 'list'>",
     "output_type": "error",
     "traceback": [
      "\u001b[0;31m---------------------------------------------------------------------------\u001b[0m",
      "\u001b[0;31mTypeError\u001b[0m                                 Traceback (most recent call last)",
      "Cell \u001b[0;32mIn [12], line 1\u001b[0m\n\u001b[0;32m----> 1\u001b[0m params \u001b[38;5;241m=\u001b[39m \u001b[43mforward_fn\u001b[49m\u001b[38;5;241;43m.\u001b[39;49m\u001b[43minit\u001b[49m\u001b[43m(\u001b[49m\u001b[43mrng\u001b[49m\u001b[38;5;241;43m=\u001b[39;49m\u001b[43mkey_1\u001b[49m\u001b[43m,\u001b[49m\u001b[43m \u001b[49m\u001b[43mx\u001b[49m\u001b[38;5;241;43m=\u001b[39;49m\u001b[43mx\u001b[49m\u001b[43m)\u001b[49m\n\u001b[1;32m      2\u001b[0m params\n",
      "File \u001b[0;32m~/Documents/projects/deep-wide-resnets/env/lib/python3.9/site-packages/haiku/_src/transform.py:114\u001b[0m, in \u001b[0;36mwithout_state.<locals>.init_fn\u001b[0;34m(*args, **kwargs)\u001b[0m\n\u001b[1;32m    113\u001b[0m \u001b[38;5;28;01mdef\u001b[39;00m \u001b[38;5;21minit_fn\u001b[39m(\u001b[38;5;241m*\u001b[39margs, \u001b[38;5;241m*\u001b[39m\u001b[38;5;241m*\u001b[39mkwargs):\n\u001b[0;32m--> 114\u001b[0m   params, state \u001b[38;5;241m=\u001b[39m \u001b[43mf\u001b[49m\u001b[38;5;241;43m.\u001b[39;49m\u001b[43minit\u001b[49m\u001b[43m(\u001b[49m\u001b[38;5;241;43m*\u001b[39;49m\u001b[43margs\u001b[49m\u001b[43m,\u001b[49m\u001b[43m \u001b[49m\u001b[38;5;241;43m*\u001b[39;49m\u001b[38;5;241;43m*\u001b[39;49m\u001b[43mkwargs\u001b[49m\u001b[43m)\u001b[49m\n\u001b[1;32m    115\u001b[0m   \u001b[38;5;28;01mif\u001b[39;00m state:\n\u001b[1;32m    116\u001b[0m     \u001b[38;5;28;01mraise\u001b[39;00m \u001b[38;5;167;01mValueError\u001b[39;00m(\u001b[38;5;124m\"\u001b[39m\u001b[38;5;124mIf your transformed function uses `hk.\u001b[39m\u001b[38;5;124m{\u001b[39m\u001b[38;5;124mget,set}_state` \u001b[39m\u001b[38;5;124m\"\u001b[39m\n\u001b[1;32m    117\u001b[0m                      \u001b[38;5;124m\"\u001b[39m\u001b[38;5;124mthen use `hk.transform_with_state`.\u001b[39m\u001b[38;5;124m\"\u001b[39m)\n",
      "File \u001b[0;32m~/Documents/projects/deep-wide-resnets/env/lib/python3.9/site-packages/haiku/_src/transform.py:338\u001b[0m, in \u001b[0;36mtransform_with_state.<locals>.init_fn\u001b[0;34m(rng, *args, **kwargs)\u001b[0m\n\u001b[1;32m    336\u001b[0m \u001b[38;5;28;01mwith\u001b[39;00m base\u001b[38;5;241m.\u001b[39mnew_context(rng\u001b[38;5;241m=\u001b[39mrng) \u001b[38;5;28;01mas\u001b[39;00m ctx:\n\u001b[1;32m    337\u001b[0m   \u001b[38;5;28;01mtry\u001b[39;00m:\n\u001b[0;32m--> 338\u001b[0m     \u001b[43mf\u001b[49m\u001b[43m(\u001b[49m\u001b[38;5;241;43m*\u001b[39;49m\u001b[43margs\u001b[49m\u001b[43m,\u001b[49m\u001b[43m \u001b[49m\u001b[38;5;241;43m*\u001b[39;49m\u001b[38;5;241;43m*\u001b[39;49m\u001b[43mkwargs\u001b[49m\u001b[43m)\u001b[49m\n\u001b[1;32m    339\u001b[0m   \u001b[38;5;28;01mexcept\u001b[39;00m jax\u001b[38;5;241m.\u001b[39merrors\u001b[38;5;241m.\u001b[39mUnexpectedTracerError \u001b[38;5;28;01mas\u001b[39;00m e:\n\u001b[1;32m    340\u001b[0m     \u001b[38;5;28;01mraise\u001b[39;00m jax\u001b[38;5;241m.\u001b[39merrors\u001b[38;5;241m.\u001b[39mUnexpectedTracerError(unexpected_tracer_hint) \u001b[38;5;28;01mfrom\u001b[39;00m \u001b[38;5;21;01me\u001b[39;00m\n",
      "Cell \u001b[0;32mIn [9], line 3\u001b[0m, in \u001b[0;36m_forward_fn\u001b[0;34m(x)\u001b[0m\n\u001b[1;32m      1\u001b[0m \u001b[38;5;28;01mdef\u001b[39;00m \u001b[38;5;21m_forward_fn\u001b[39m(x):\n\u001b[1;32m      2\u001b[0m     net \u001b[38;5;241m=\u001b[39m Residual(d\u001b[38;5;241m=\u001b[39mWIDTH, width\u001b[38;5;241m=\u001b[39mWIDTH, activation\u001b[38;5;241m=\u001b[39mACTIVATION, bias\u001b[38;5;241m=\u001b[39mBIAS, alpha\u001b[38;5;241m=\u001b[39malpha)\n\u001b[0;32m----> 3\u001b[0m     \u001b[38;5;28;01mreturn\u001b[39;00m \u001b[43mnet\u001b[49m\u001b[43m(\u001b[49m\u001b[43mx\u001b[49m\u001b[43m)\u001b[49m\n",
      "File \u001b[0;32m~/Documents/projects/deep-wide-resnets/env/lib/python3.9/site-packages/haiku/_src/module.py:434\u001b[0m, in \u001b[0;36mwrap_method.<locals>.wrapped\u001b[0;34m(self, *args, **kwargs)\u001b[0m\n\u001b[1;32m    431\u001b[0m     local_module_name \u001b[38;5;241m=\u001b[39m module_name\u001b[38;5;241m.\u001b[39msplit(\u001b[38;5;124m\"\u001b[39m\u001b[38;5;124m/\u001b[39m\u001b[38;5;124m\"\u001b[39m)[\u001b[38;5;241m-\u001b[39m\u001b[38;5;241m1\u001b[39m]\n\u001b[1;32m    432\u001b[0m     f \u001b[38;5;241m=\u001b[39m stateful\u001b[38;5;241m.\u001b[39mnamed_call(f, name\u001b[38;5;241m=\u001b[39mlocal_module_name)\n\u001b[0;32m--> 434\u001b[0m out \u001b[38;5;241m=\u001b[39m \u001b[43mf\u001b[49m\u001b[43m(\u001b[49m\u001b[38;5;241;43m*\u001b[39;49m\u001b[43margs\u001b[49m\u001b[43m,\u001b[49m\u001b[43m \u001b[49m\u001b[38;5;241;43m*\u001b[39;49m\u001b[38;5;241;43m*\u001b[39;49m\u001b[43mkwargs\u001b[49m\u001b[43m)\u001b[49m\n\u001b[1;32m    436\u001b[0m \u001b[38;5;66;03m# Module names are set in the constructor. If `f` is the constructor then\u001b[39;00m\n\u001b[1;32m    437\u001b[0m \u001b[38;5;66;03m# its name will only be set **after** `f` has run. For methods other\u001b[39;00m\n\u001b[1;32m    438\u001b[0m \u001b[38;5;66;03m# than `__init__` we need the name before running in order to wrap their\u001b[39;00m\n\u001b[1;32m    439\u001b[0m \u001b[38;5;66;03m# execution with `named_call`.\u001b[39;00m\n\u001b[1;32m    440\u001b[0m \u001b[38;5;28;01mif\u001b[39;00m module_name \u001b[38;5;129;01mis\u001b[39;00m \u001b[38;5;28;01mNone\u001b[39;00m:\n",
      "File \u001b[0;32m/usr/local/Cellar/python@3.9/3.9.7_1/Frameworks/Python.framework/Versions/3.9/lib/python3.9/contextlib.py:79\u001b[0m, in \u001b[0;36mContextDecorator.__call__.<locals>.inner\u001b[0;34m(*args, **kwds)\u001b[0m\n\u001b[1;32m     76\u001b[0m \u001b[38;5;129m@wraps\u001b[39m(func)\n\u001b[1;32m     77\u001b[0m \u001b[38;5;28;01mdef\u001b[39;00m \u001b[38;5;21minner\u001b[39m(\u001b[38;5;241m*\u001b[39margs, \u001b[38;5;241m*\u001b[39m\u001b[38;5;241m*\u001b[39mkwds):\n\u001b[1;32m     78\u001b[0m     \u001b[38;5;28;01mwith\u001b[39;00m \u001b[38;5;28mself\u001b[39m\u001b[38;5;241m.\u001b[39m_recreate_cm():\n\u001b[0;32m---> 79\u001b[0m         \u001b[38;5;28;01mreturn\u001b[39;00m \u001b[43mfunc\u001b[49m\u001b[43m(\u001b[49m\u001b[38;5;241;43m*\u001b[39;49m\u001b[43margs\u001b[49m\u001b[43m,\u001b[49m\u001b[43m \u001b[49m\u001b[38;5;241;43m*\u001b[39;49m\u001b[38;5;241;43m*\u001b[39;49m\u001b[43mkwds\u001b[49m\u001b[43m)\u001b[49m\n",
      "File \u001b[0;32m~/Documents/projects/deep-wide-resnets/env/lib/python3.9/site-packages/haiku/_src/module.py:273\u001b[0m, in \u001b[0;36mrun_interceptors\u001b[0;34m(bound_method, method_name, self, *args, **kwargs)\u001b[0m\n\u001b[1;32m    271\u001b[0m \u001b[38;5;124;03m\"\"\"Runs any method interceptors or the original method.\"\"\"\u001b[39;00m\n\u001b[1;32m    272\u001b[0m \u001b[38;5;28;01mif\u001b[39;00m \u001b[38;5;129;01mnot\u001b[39;00m interceptor_stack:\n\u001b[0;32m--> 273\u001b[0m   \u001b[38;5;28;01mreturn\u001b[39;00m \u001b[43mbound_method\u001b[49m\u001b[43m(\u001b[49m\u001b[38;5;241;43m*\u001b[39;49m\u001b[43margs\u001b[49m\u001b[43m,\u001b[49m\u001b[43m \u001b[49m\u001b[38;5;241;43m*\u001b[39;49m\u001b[38;5;241;43m*\u001b[39;49m\u001b[43mkwargs\u001b[49m\u001b[43m)\u001b[49m\n\u001b[1;32m    275\u001b[0m ctx \u001b[38;5;241m=\u001b[39m MethodContext(module\u001b[38;5;241m=\u001b[39m\u001b[38;5;28mself\u001b[39m,\n\u001b[1;32m    276\u001b[0m                     method_name\u001b[38;5;241m=\u001b[39mmethod_name,\n\u001b[1;32m    277\u001b[0m                     orig_method\u001b[38;5;241m=\u001b[39mbound_method)\n\u001b[1;32m    278\u001b[0m interceptor_stack_copy \u001b[38;5;241m=\u001b[39m interceptor_stack\u001b[38;5;241m.\u001b[39mclone()\n",
      "File \u001b[0;32m~/Documents/projects/deep-wide-resnets/deep-wide-resnets/layers/jax/residual.py:91\u001b[0m, in \u001b[0;36mResidual.__call__\u001b[0;34m(self, x)\u001b[0m\n\u001b[1;32m     90\u001b[0m \u001b[38;5;28;01mdef\u001b[39;00m \u001b[38;5;21m__call__\u001b[39m(\u001b[38;5;28mself\u001b[39m, x):\n\u001b[0;32m---> 91\u001b[0m     \u001b[38;5;28;01mreturn\u001b[39;00m x \u001b[38;5;241m+\u001b[39m \u001b[38;5;28mself\u001b[39m\u001b[38;5;241m.\u001b[39malpha \u001b[38;5;241m*\u001b[39m \u001b[38;5;28mself\u001b[39m\u001b[38;5;241m.\u001b[39msecond_layer(\u001b[38;5;28mself\u001b[39m\u001b[38;5;241m.\u001b[39mactivation(\u001b[38;5;28;43mself\u001b[39;49m\u001b[38;5;241;43m.\u001b[39;49m\u001b[43mfirst_layer\u001b[49m\u001b[43m(\u001b[49m\u001b[43mx\u001b[49m\u001b[43m)\u001b[49m))\n",
      "File \u001b[0;32m~/Documents/projects/deep-wide-resnets/env/lib/python3.9/site-packages/haiku/_src/module.py:434\u001b[0m, in \u001b[0;36mwrap_method.<locals>.wrapped\u001b[0;34m(self, *args, **kwargs)\u001b[0m\n\u001b[1;32m    431\u001b[0m     local_module_name \u001b[38;5;241m=\u001b[39m module_name\u001b[38;5;241m.\u001b[39msplit(\u001b[38;5;124m\"\u001b[39m\u001b[38;5;124m/\u001b[39m\u001b[38;5;124m\"\u001b[39m)[\u001b[38;5;241m-\u001b[39m\u001b[38;5;241m1\u001b[39m]\n\u001b[1;32m    432\u001b[0m     f \u001b[38;5;241m=\u001b[39m stateful\u001b[38;5;241m.\u001b[39mnamed_call(f, name\u001b[38;5;241m=\u001b[39mlocal_module_name)\n\u001b[0;32m--> 434\u001b[0m out \u001b[38;5;241m=\u001b[39m \u001b[43mf\u001b[49m\u001b[43m(\u001b[49m\u001b[38;5;241;43m*\u001b[39;49m\u001b[43margs\u001b[49m\u001b[43m,\u001b[49m\u001b[43m \u001b[49m\u001b[38;5;241;43m*\u001b[39;49m\u001b[38;5;241;43m*\u001b[39;49m\u001b[43mkwargs\u001b[49m\u001b[43m)\u001b[49m\n\u001b[1;32m    436\u001b[0m \u001b[38;5;66;03m# Module names are set in the constructor. If `f` is the constructor then\u001b[39;00m\n\u001b[1;32m    437\u001b[0m \u001b[38;5;66;03m# its name will only be set **after** `f` has run. For methods other\u001b[39;00m\n\u001b[1;32m    438\u001b[0m \u001b[38;5;66;03m# than `__init__` we need the name before running in order to wrap their\u001b[39;00m\n\u001b[1;32m    439\u001b[0m \u001b[38;5;66;03m# execution with `named_call`.\u001b[39;00m\n\u001b[1;32m    440\u001b[0m \u001b[38;5;28;01mif\u001b[39;00m module_name \u001b[38;5;129;01mis\u001b[39;00m \u001b[38;5;28;01mNone\u001b[39;00m:\n",
      "File \u001b[0;32m/usr/local/Cellar/python@3.9/3.9.7_1/Frameworks/Python.framework/Versions/3.9/lib/python3.9/contextlib.py:79\u001b[0m, in \u001b[0;36mContextDecorator.__call__.<locals>.inner\u001b[0;34m(*args, **kwds)\u001b[0m\n\u001b[1;32m     76\u001b[0m \u001b[38;5;129m@wraps\u001b[39m(func)\n\u001b[1;32m     77\u001b[0m \u001b[38;5;28;01mdef\u001b[39;00m \u001b[38;5;21minner\u001b[39m(\u001b[38;5;241m*\u001b[39margs, \u001b[38;5;241m*\u001b[39m\u001b[38;5;241m*\u001b[39mkwds):\n\u001b[1;32m     78\u001b[0m     \u001b[38;5;28;01mwith\u001b[39;00m \u001b[38;5;28mself\u001b[39m\u001b[38;5;241m.\u001b[39m_recreate_cm():\n\u001b[0;32m---> 79\u001b[0m         \u001b[38;5;28;01mreturn\u001b[39;00m \u001b[43mfunc\u001b[49m\u001b[43m(\u001b[49m\u001b[38;5;241;43m*\u001b[39;49m\u001b[43margs\u001b[49m\u001b[43m,\u001b[49m\u001b[43m \u001b[49m\u001b[38;5;241;43m*\u001b[39;49m\u001b[38;5;241;43m*\u001b[39;49m\u001b[43mkwds\u001b[49m\u001b[43m)\u001b[49m\n",
      "File \u001b[0;32m~/Documents/projects/deep-wide-resnets/env/lib/python3.9/site-packages/haiku/_src/module.py:273\u001b[0m, in \u001b[0;36mrun_interceptors\u001b[0;34m(bound_method, method_name, self, *args, **kwargs)\u001b[0m\n\u001b[1;32m    271\u001b[0m \u001b[38;5;124;03m\"\"\"Runs any method interceptors or the original method.\"\"\"\u001b[39;00m\n\u001b[1;32m    272\u001b[0m \u001b[38;5;28;01mif\u001b[39;00m \u001b[38;5;129;01mnot\u001b[39;00m interceptor_stack:\n\u001b[0;32m--> 273\u001b[0m   \u001b[38;5;28;01mreturn\u001b[39;00m \u001b[43mbound_method\u001b[49m\u001b[43m(\u001b[49m\u001b[38;5;241;43m*\u001b[39;49m\u001b[43margs\u001b[49m\u001b[43m,\u001b[49m\u001b[43m \u001b[49m\u001b[38;5;241;43m*\u001b[39;49m\u001b[38;5;241;43m*\u001b[39;49m\u001b[43mkwargs\u001b[49m\u001b[43m)\u001b[49m\n\u001b[1;32m    275\u001b[0m ctx \u001b[38;5;241m=\u001b[39m MethodContext(module\u001b[38;5;241m=\u001b[39m\u001b[38;5;28mself\u001b[39m,\n\u001b[1;32m    276\u001b[0m                     method_name\u001b[38;5;241m=\u001b[39mmethod_name,\n\u001b[1;32m    277\u001b[0m                     orig_method\u001b[38;5;241m=\u001b[39mbound_method)\n\u001b[1;32m    278\u001b[0m interceptor_stack_copy \u001b[38;5;241m=\u001b[39m interceptor_stack\u001b[38;5;241m.\u001b[39mclone()\n",
      "File \u001b[0;32m~/Documents/projects/deep-wide-resnets/env/lib/python3.9/site-packages/haiku/_src/basic.py:176\u001b[0m, in \u001b[0;36mLinear.__call__\u001b[0;34m(self, inputs, precision)\u001b[0m\n\u001b[1;32m    174\u001b[0m   stddev \u001b[38;5;241m=\u001b[39m \u001b[38;5;241m1.\u001b[39m \u001b[38;5;241m/\u001b[39m np\u001b[38;5;241m.\u001b[39msqrt(\u001b[38;5;28mself\u001b[39m\u001b[38;5;241m.\u001b[39minput_size)\n\u001b[1;32m    175\u001b[0m   w_init \u001b[38;5;241m=\u001b[39m hk\u001b[38;5;241m.\u001b[39minitializers\u001b[38;5;241m.\u001b[39mTruncatedNormal(stddev\u001b[38;5;241m=\u001b[39mstddev)\n\u001b[0;32m--> 176\u001b[0m w \u001b[38;5;241m=\u001b[39m \u001b[43mhk\u001b[49m\u001b[38;5;241;43m.\u001b[39;49m\u001b[43mget_parameter\u001b[49m\u001b[43m(\u001b[49m\u001b[38;5;124;43m\"\u001b[39;49m\u001b[38;5;124;43mw\u001b[39;49m\u001b[38;5;124;43m\"\u001b[39;49m\u001b[43m,\u001b[49m\u001b[43m \u001b[49m\u001b[43m[\u001b[49m\u001b[43minput_size\u001b[49m\u001b[43m,\u001b[49m\u001b[43m \u001b[49m\u001b[43moutput_size\u001b[49m\u001b[43m]\u001b[49m\u001b[43m,\u001b[49m\u001b[43m \u001b[49m\u001b[43mdtype\u001b[49m\u001b[43m,\u001b[49m\u001b[43m \u001b[49m\u001b[43minit\u001b[49m\u001b[38;5;241;43m=\u001b[39;49m\u001b[43mw_init\u001b[49m\u001b[43m)\u001b[49m\n\u001b[1;32m    178\u001b[0m out \u001b[38;5;241m=\u001b[39m jnp\u001b[38;5;241m.\u001b[39mdot(inputs, w, precision\u001b[38;5;241m=\u001b[39mprecision)\n\u001b[1;32m    180\u001b[0m \u001b[38;5;28;01mif\u001b[39;00m \u001b[38;5;28mself\u001b[39m\u001b[38;5;241m.\u001b[39mwith_bias:\n",
      "File \u001b[0;32m~/Documents/projects/deep-wide-resnets/env/lib/python3.9/site-packages/haiku/_src/base.py:448\u001b[0m, in \u001b[0;36mreplaceable.<locals>.wrapped\u001b[0;34m(*args, **kwargs)\u001b[0m\n\u001b[1;32m    446\u001b[0m \u001b[38;5;129m@functools\u001b[39m\u001b[38;5;241m.\u001b[39mwraps(f)\n\u001b[1;32m    447\u001b[0m \u001b[38;5;28;01mdef\u001b[39;00m \u001b[38;5;21mwrapped\u001b[39m(\u001b[38;5;241m*\u001b[39margs, \u001b[38;5;241m*\u001b[39m\u001b[38;5;241m*\u001b[39mkwargs):\n\u001b[0;32m--> 448\u001b[0m   \u001b[38;5;28;01mreturn\u001b[39;00m \u001b[43mwrapped\u001b[49m\u001b[38;5;241;43m.\u001b[39;49m\u001b[43m_current\u001b[49m\u001b[43m(\u001b[49m\u001b[38;5;241;43m*\u001b[39;49m\u001b[43margs\u001b[49m\u001b[43m,\u001b[49m\u001b[43m \u001b[49m\u001b[38;5;241;43m*\u001b[39;49m\u001b[38;5;241;43m*\u001b[39;49m\u001b[43mkwargs\u001b[49m\u001b[43m)\u001b[49m\n",
      "File \u001b[0;32m~/Documents/projects/deep-wide-resnets/env/lib/python3.9/site-packages/haiku/_src/base.py:515\u001b[0m, in \u001b[0;36mget_parameter\u001b[0;34m(name, shape, dtype, init)\u001b[0m\n\u001b[1;32m    513\u001b[0m   param \u001b[38;5;241m=\u001b[39m run_creators(param_creator_stack, context, shape, dtype, init)\n\u001b[1;32m    514\u001b[0m \u001b[38;5;28;01melse\u001b[39;00m:\n\u001b[0;32m--> 515\u001b[0m   param \u001b[38;5;241m=\u001b[39m \u001b[43minit\u001b[49m\u001b[43m(\u001b[49m\u001b[43mshape\u001b[49m\u001b[43m,\u001b[49m\u001b[43m \u001b[49m\u001b[43mdtype\u001b[49m\u001b[43m)\u001b[49m\n\u001b[1;32m    517\u001b[0m \u001b[38;5;28;01mif\u001b[39;00m param \u001b[38;5;129;01mis\u001b[39;00m DO_NOT_STORE:\n\u001b[1;32m    518\u001b[0m   \u001b[38;5;66;03m# Initializers or custom creators that return `DO_NOT_STORE` are required\u001b[39;00m\n\u001b[1;32m    519\u001b[0m   \u001b[38;5;66;03m# to produce a value for the parameter via a custom getter.\u001b[39;00m\n\u001b[1;32m    520\u001b[0m   remove_if_empty(frame\u001b[38;5;241m.\u001b[39mparams, bundle_name)\n",
      "File \u001b[0;32m~/Documents/projects/deep-wide-resnets/env/lib/python3.9/site-packages/jax/_src/nn/initializers.py:147\u001b[0m, in \u001b[0;36mnormal.<locals>.init\u001b[0;34m(key, shape, dtype)\u001b[0m\n\u001b[1;32m    143\u001b[0m \u001b[38;5;28;01mdef\u001b[39;00m \u001b[38;5;21minit\u001b[39m(key: KeyArray,\n\u001b[1;32m    144\u001b[0m          shape: core\u001b[38;5;241m.\u001b[39mShape,\n\u001b[1;32m    145\u001b[0m          dtype: DTypeLikeInexact \u001b[38;5;241m=\u001b[39m dtype) \u001b[38;5;241m-\u001b[39m\u001b[38;5;241m>\u001b[39m Array:\n\u001b[1;32m    146\u001b[0m   dtype \u001b[38;5;241m=\u001b[39m dtypes\u001b[38;5;241m.\u001b[39mcanonicalize_dtype(dtype)\n\u001b[0;32m--> 147\u001b[0m   \u001b[38;5;28;01mreturn\u001b[39;00m \u001b[43mrandom\u001b[49m\u001b[38;5;241;43m.\u001b[39;49m\u001b[43mnormal\u001b[49m\u001b[43m(\u001b[49m\u001b[43mkey\u001b[49m\u001b[43m,\u001b[49m\u001b[43m \u001b[49m\u001b[43mshape\u001b[49m\u001b[43m,\u001b[49m\u001b[43m \u001b[49m\u001b[43mdtype\u001b[49m\u001b[43m)\u001b[49m \u001b[38;5;241m*\u001b[39m stddev\n",
      "File \u001b[0;32m~/Documents/projects/deep-wide-resnets/env/lib/python3.9/site-packages/jax/_src/random.py:555\u001b[0m, in \u001b[0;36mnormal\u001b[0;34m(key, shape, dtype)\u001b[0m\n\u001b[1;32m    540\u001b[0m \u001b[38;5;28;01mdef\u001b[39;00m \u001b[38;5;21mnormal\u001b[39m(key: KeyArray,\n\u001b[1;32m    541\u001b[0m            shape: Union[Shape, NamedShape] \u001b[38;5;241m=\u001b[39m (),\n\u001b[1;32m    542\u001b[0m            dtype: DTypeLikeFloat \u001b[38;5;241m=\u001b[39m dtypes\u001b[38;5;241m.\u001b[39mfloat_) \u001b[38;5;241m-\u001b[39m\u001b[38;5;241m>\u001b[39m Array:\n\u001b[1;32m    543\u001b[0m   \u001b[38;5;124;03m\"\"\"Sample standard normal random values with given shape and float dtype.\u001b[39;00m\n\u001b[1;32m    544\u001b[0m \n\u001b[1;32m    545\u001b[0m \u001b[38;5;124;03m  Args:\u001b[39;00m\n\u001b[0;32m   (...)\u001b[0m\n\u001b[1;32m    553\u001b[0m \u001b[38;5;124;03m    A random array with the specified shape and dtype.\u001b[39;00m\n\u001b[1;32m    554\u001b[0m \u001b[38;5;124;03m  \"\"\"\u001b[39;00m\n\u001b[0;32m--> 555\u001b[0m   key, _ \u001b[38;5;241m=\u001b[39m \u001b[43m_check_prng_key\u001b[49m\u001b[43m(\u001b[49m\u001b[43mkey\u001b[49m\u001b[43m)\u001b[49m\n\u001b[1;32m    556\u001b[0m   \u001b[38;5;28;01mif\u001b[39;00m \u001b[38;5;129;01mnot\u001b[39;00m dtypes\u001b[38;5;241m.\u001b[39missubdtype(dtype, np\u001b[38;5;241m.\u001b[39minexact):\n\u001b[1;32m    557\u001b[0m     \u001b[38;5;28;01mraise\u001b[39;00m \u001b[38;5;167;01mValueError\u001b[39;00m(\u001b[38;5;124mf\u001b[39m\u001b[38;5;124m\"\u001b[39m\u001b[38;5;124mdtype argument to `normal` must be a float or complex dtype, \u001b[39m\u001b[38;5;124m\"\u001b[39m\n\u001b[1;32m    558\u001b[0m                      \u001b[38;5;124mf\u001b[39m\u001b[38;5;124m\"\u001b[39m\u001b[38;5;124mgot \u001b[39m\u001b[38;5;132;01m{\u001b[39;00mdtype\u001b[38;5;132;01m}\u001b[39;00m\u001b[38;5;124m\"\u001b[39m)\n",
      "File \u001b[0;32m~/Documents/projects/deep-wide-resnets/env/lib/python3.9/site-packages/jax/_src/random.py:76\u001b[0m, in \u001b[0;36m_check_prng_key\u001b[0;34m(key)\u001b[0m\n\u001b[1;32m     74\u001b[0m   \u001b[38;5;28;01mreturn\u001b[39;00m prng\u001b[38;5;241m.\u001b[39mrandom_wrap(key, impl\u001b[38;5;241m=\u001b[39mdefault_prng_impl()), \u001b[38;5;28;01mTrue\u001b[39;00m\n\u001b[1;32m     75\u001b[0m \u001b[38;5;28;01melse\u001b[39;00m:\n\u001b[0;32m---> 76\u001b[0m   \u001b[38;5;28;01mraise\u001b[39;00m \u001b[38;5;167;01mTypeError\u001b[39;00m(\u001b[38;5;124mf\u001b[39m\u001b[38;5;124m'\u001b[39m\u001b[38;5;124munexpected PRNG key type \u001b[39m\u001b[38;5;132;01m{\u001b[39;00m\u001b[38;5;28mtype\u001b[39m(key)\u001b[38;5;132;01m}\u001b[39;00m\u001b[38;5;124m'\u001b[39m)\n",
      "\u001b[0;31mTypeError\u001b[0m: unexpected PRNG key type <class 'list'>"
     ]
    }
   ],
   "source": [
    "params = forward_fn.init(rng=key_1, x=x)\n",
    "params"
   ]
  },
  {
   "cell_type": "code",
   "execution_count": null,
   "id": "faa6338c",
   "metadata": {},
   "outputs": [],
   "source": [
    "hk.initializers."
   ]
  },
  {
   "cell_type": "code",
   "execution_count": 23,
   "id": "242cf923",
   "metadata": {
    "collapsed": true
   },
   "outputs": [
    {
     "name": "stdout",
     "output_type": "stream",
     "text": [
      "(256,)\n"
     ]
    },
    {
     "data": {
      "text/plain": [
       "DeviceArray([ 0.45846346,  0.06503269, -0.07381058, -0.26981813,\n",
       "              0.6445098 , -0.40612713,  3.600132  ,  0.54357916,\n",
       "             -0.3267934 ,  2.1096427 ,  1.3077282 ,  1.1968408 ,\n",
       "             -1.3792636 ,  1.9957889 , -1.6408458 ,  1.0788362 ,\n",
       "             -0.02287359,  0.882253  ,  0.48119825,  0.1783561 ,\n",
       "              0.30261105,  0.80525875,  0.6288748 , -0.24098386,\n",
       "             -1.0255009 ,  0.7501734 , -0.19838047,  0.07536075,\n",
       "              0.66395146, -0.6117503 , -0.6955691 , -0.4440646 ,\n",
       "             -1.7750372 ,  0.02283927,  0.03941284,  0.35539868,\n",
       "             -0.47521847, -0.9878623 , -0.24215735, -1.0723262 ,\n",
       "             -0.9975525 ,  0.22574413,  1.4150982 ,  1.5500433 ,\n",
       "             -0.12253696,  0.20015198,  0.6174063 ,  0.23970821,\n",
       "              0.9243334 ,  1.8405286 ,  0.88899297,  0.39620674,\n",
       "             -1.521879  ,  0.29617462,  1.521638  , -0.34095857,\n",
       "              0.24158362, -0.52253723, -0.23626004,  0.92786276,\n",
       "             -0.6374453 , -0.6223482 ,  0.7868028 , -0.8018988 ,\n",
       "             -0.45372897,  1.3092543 , -0.06885681,  1.0017139 ,\n",
       "             -0.63671136,  0.16496265, -1.4607632 ,  1.1047529 ,\n",
       "             -0.01764676,  0.2869963 , -0.7298609 ,  0.6609476 ,\n",
       "             -1.9222927 ,  0.70103675, -0.969159  , -0.47342852,\n",
       "             -1.6690401 ,  0.46084356, -0.5679868 ,  0.32793593,\n",
       "             -0.46424648,  1.0236804 ,  0.8462332 ,  1.1976122 ,\n",
       "             -1.8252182 ,  0.05903005, -0.5948076 ,  1.4481215 ,\n",
       "             -0.34849265, -0.467602  , -0.54987967, -1.6117634 ,\n",
       "              0.17460513,  0.38625488, -1.1229396 , -0.29394016,\n",
       "             -0.5246815 , -1.2621212 ,  1.0790781 ,  0.5123221 ,\n",
       "              1.489384  ,  1.0985855 , -0.01674335,  0.32570702,\n",
       "              1.9481366 , -1.2933729 ,  1.0601736 , -0.86945665,\n",
       "              0.22933283, -0.27293065, -0.2107005 , -0.41827422,\n",
       "             -0.02397506,  1.3106506 ,  0.05596513, -1.2312397 ,\n",
       "             -0.99650747,  0.27182788, -0.7257729 , -0.14553438,\n",
       "             -1.4864787 ,  1.3515207 ,  1.2970824 , -1.0120107 ,\n",
       "             -0.7972388 , -0.16209938,  0.8728787 ,  1.6931617 ,\n",
       "              1.4247776 , -0.7237928 , -1.2483702 ,  0.07136685,\n",
       "              0.71331066, -0.07299442, -0.9209608 , -2.6882143 ,\n",
       "             -0.43917915,  0.3542811 , -0.5795751 ,  0.97391075,\n",
       "             -0.3105494 , -0.88392013, -2.088436  ,  0.472459  ,\n",
       "             -0.02335437,  0.2662299 , -0.19264838, -2.105728  ,\n",
       "             -1.2810524 , -1.359919  ,  2.0988805 ,  0.65325487,\n",
       "              0.21526909, -0.4598269 ,  0.15895389, -0.31304696,\n",
       "             -0.6507107 , -0.60899043, -1.0629038 , -1.4708447 ,\n",
       "              1.1828628 , -0.78763807,  1.2846767 ,  1.8037336 ,\n",
       "              1.0913556 ,  0.26065886, -0.30308527,  0.39842528,\n",
       "              0.26787513, -1.520547  , -0.47028214,  0.03819995,\n",
       "             -1.366238  ,  2.3022819 ,  2.0684385 , -0.41595492,\n",
       "              1.8557045 ,  0.4892608 , -0.06524678,  0.00431128,\n",
       "              0.23802863, -1.8502042 , -0.20531689, -0.34256297,\n",
       "             -0.57959807, -1.1039307 , -0.30399126, -0.16441135,\n",
       "             -0.8242777 ,  0.10397328,  1.788353  ,  0.04816411,\n",
       "              1.8686528 , -0.6522237 ,  0.8134377 , -0.28246152,\n",
       "              0.3118365 ,  0.57680106,  1.2189097 , -1.5602934 ,\n",
       "              0.38076806, -0.18289338,  0.8186144 , -0.4050756 ,\n",
       "              0.46460265, -1.156375  ,  0.59731925, -1.0776633 ,\n",
       "              0.07288434,  0.61420757,  0.5543665 , -0.49776235,\n",
       "              0.9277534 , -1.2784384 , -0.83458495, -0.43006706,\n",
       "              0.4190738 , -1.0406398 , -1.461119  ,  0.61251456,\n",
       "              0.15491782, -0.34287295,  0.56466305, -1.1793337 ,\n",
       "              0.11293393, -1.8319111 ,  0.38630205, -0.58558995,\n",
       "              0.7788373 ,  1.5373535 , -0.7031161 , -0.11469135,\n",
       "             -1.1489378 , -0.44318786,  1.2210346 ,  0.64044267,\n",
       "             -0.7010569 , -0.2726252 ,  0.3856929 , -1.0796741 ,\n",
       "              0.12568115, -1.2848777 ,  0.3791901 ,  0.68939584,\n",
       "              1.6576198 ,  0.12350859, -0.03603724,  1.1014848 ,\n",
       "             -0.2851359 , -0.4807039 ,  0.70287347, -0.67191   ],            dtype=float32)"
      ]
     },
     "execution_count": 23,
     "metadata": {},
     "output_type": "execute_result"
    }
   ],
   "source": [
    "output = forward_fn.apply(x=x, params=params)\n",
    "print(output.shape)\n",
    "output"
   ]
  },
  {
   "cell_type": "code",
   "execution_count": null,
   "id": "e27e36d1",
   "metadata": {},
   "outputs": [],
   "source": []
  },
  {
   "cell_type": "code",
   "execution_count": null,
   "id": "272ccbce",
   "metadata": {},
   "outputs": [],
   "source": []
  },
  {
   "cell_type": "code",
   "execution_count": null,
   "id": "bdb3e483",
   "metadata": {},
   "outputs": [],
   "source": []
  },
  {
   "cell_type": "code",
   "execution_count": 24,
   "id": "febe6347",
   "metadata": {},
   "outputs": [],
   "source": [
    "class MyLinear1(hk.Module):\n",
    "\n",
    "    def __init__(self, output_size, name=None):\n",
    "        super().__init__(name=name)\n",
    "        self.output_size = output_size\n",
    "\n",
    "    def __call__(self, x):\n",
    "        j, k = x.shape[-1], self.output_size\n",
    "        w_init = hk.initializers.TruncatedNormal(1. / np.sqrt(j))\n",
    "        w = hk.get_parameter(\"w\", shape=[j, k], dtype=x.dtype, init=w_init)\n",
    "        b = hk.get_parameter(\"b\", shape=[k], dtype=x.dtype, init=jnp.ones)\n",
    "        return jnp.dot(x, w) + b"
   ]
  },
  {
   "cell_type": "code",
   "execution_count": 41,
   "id": "e53c99d8",
   "metadata": {},
   "outputs": [
    {
     "data": {
      "text/plain": [
       "{'custom_linear/~/first_layer': {'w': DeviceArray([[ 0.10137872, -0.06849594, -0.05502961, ..., -0.0580392 ,\n",
       "                -0.08042663, -0.00842963],\n",
       "               [-0.02619505,  0.08058587, -0.04703137, ..., -0.04650393,\n",
       "                -0.09204443, -0.09061009],\n",
       "               [ 0.07700656, -0.02135302,  0.01246158, ..., -0.02489848,\n",
       "                 0.01373748,  0.04003981],\n",
       "               ...,\n",
       "               [-0.10954096,  0.03559806, -0.00922422, ..., -0.00256604,\n",
       "                -0.08048458, -0.0076758 ],\n",
       "               [-0.01473674, -0.02222958,  0.00128034, ...,  0.09191827,\n",
       "                -0.06019867, -0.04916775],\n",
       "               [ 0.00722767, -0.01513949, -0.04333597, ..., -0.05536818,\n",
       "                -0.02729566, -0.06372111]], dtype=float32)},\n",
       " 'custom_linear/~/seccond_layer': {'w': DeviceArray([[ 0.07734542, -0.06559161,  0.01210385, ..., -0.02081679,\n",
       "                 0.00435181, -0.05712689],\n",
       "               [-0.02065541,  0.05118439,  0.02106534, ...,  0.08045646,\n",
       "                -0.02442698,  0.04498811],\n",
       "               [ 0.05180025,  0.05737185, -0.07742057, ..., -0.03413481,\n",
       "                -0.10366776, -0.01608699],\n",
       "               ...,\n",
       "               [ 0.09423385,  0.08552517,  0.02599466, ...,  0.00414053,\n",
       "                 0.02042609,  0.02830156],\n",
       "               [-0.10357671, -0.09244986,  0.05684404, ...,  0.07625336,\n",
       "                -0.0376271 ,  0.12477397],\n",
       "               [-0.0635506 ,  0.03940604,  0.02956558, ...,  0.04458762,\n",
       "                 0.08005731,  0.07097676]], dtype=float32)}}"
      ]
     },
     "execution_count": 41,
     "metadata": {},
     "output_type": "execute_result"
    }
   ],
   "source": [
    "alpha = 1 / N_RES\n",
    "\n",
    "class MyModuleCustom(hk.Module):\n",
    "    def __init__(self, d=WIDTH, name='custom_linear', alpha=1.0):\n",
    "        super().__init__(name=name)\n",
    "        self.alpha = alpha\n",
    "        #self._internal_linear_1 = hk.nets.MLP(output_sizes=[2, 3], name='hk_internal_linear')\n",
    "        #self._internal_linear_2 = MyLinear1(output_size=output_size, name='old_linear')\n",
    "        self.first_layer = hk.Linear(output_size=WIDTH, with_bias=False, name='first_layer')\n",
    "        self.second_layer = hk.Linear(output_size=WIDTH, with_bias=False, name='seccond_layer')\n",
    "\n",
    "    def __call__(self, x):\n",
    "        return x + self.alpha * self.second_layer(self.first_layer(x))\n",
    "\n",
    "def _custom_forward_fn(x):\n",
    "    module = MyModuleCustom()\n",
    "    return module(x)\n",
    "\n",
    "sample_x = jnp.arange(WIDTH).reshape(1,-1).astype(float)\n",
    "custom_forward_without_rng = hk.without_apply_rng(hk.transform(_custom_forward_fn))\n",
    "params = custom_forward_without_rng.init(rng=rng_key, x=sample_x)\n",
    "params"
   ]
  },
  {
   "cell_type": "code",
   "execution_count": 38,
   "id": "e2accf61",
   "metadata": {},
   "outputs": [
    {
     "data": {
      "text/plain": [
       "(1, 256)"
      ]
     },
     "execution_count": 38,
     "metadata": {},
     "output_type": "execute_result"
    }
   ],
   "source": [
    "sample_x.shape"
   ]
  },
  {
   "cell_type": "code",
   "execution_count": null,
   "id": "cc89ea86",
   "metadata": {},
   "outputs": [],
   "source": []
  },
  {
   "cell_type": "code",
   "execution_count": null,
   "id": "3e8edcb1",
   "metadata": {},
   "outputs": [],
   "source": []
  },
  {
   "cell_type": "code",
   "execution_count": null,
   "id": "096797de",
   "metadata": {},
   "outputs": [],
   "source": []
  },
  {
   "cell_type": "code",
   "execution_count": null,
   "id": "0534adcb",
   "metadata": {},
   "outputs": [],
   "source": []
  }
 ],
 "metadata": {
  "kernelspec": {
   "display_name": "Python 3 (ipykernel)",
   "language": "python",
   "name": "python3"
  },
  "language_info": {
   "codemirror_mode": {
    "name": "ipython",
    "version": 3
   },
   "file_extension": ".py",
   "mimetype": "text/x-python",
   "name": "python",
   "nbconvert_exporter": "python",
   "pygments_lexer": "ipython3",
   "version": "3.9.7"
  }
 },
 "nbformat": 4,
 "nbformat_minor": 5
}
