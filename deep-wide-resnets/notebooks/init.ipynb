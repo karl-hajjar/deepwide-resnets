{
 "cells": [
  {
   "cell_type": "code",
   "execution_count": 1,
   "id": "319faced",
   "metadata": {},
   "outputs": [],
   "source": [
    "%matplotlib inline"
   ]
  },
  {
   "cell_type": "code",
   "execution_count": 2,
   "id": "d15e6db7",
   "metadata": {},
   "outputs": [],
   "source": [
    "%load_ext autoreload\n",
    "%autoreload 2"
   ]
  },
  {
   "cell_type": "code",
   "execution_count": 3,
   "id": "437774ea",
   "metadata": {},
   "outputs": [
    {
     "name": "stderr",
     "output_type": "stream",
     "text": [
      "/Users/karlhajjar/Documents/projects/deep-wide-resnets/env/lib/python3.9/site-packages/tqdm/auto.py:22: TqdmWarning: IProgress not found. Please update jupyter and ipywidgets. See https://ipywidgets.readthedocs.io/en/stable/user_install.html\n",
      "  from .autonotebook import tqdm as notebook_tqdm\n"
     ]
    }
   ],
   "source": [
    "import os\n",
    "import torch\n",
    "import matplotlib.pyplot as plt\n",
    "import seaborn as sns\n",
    "sns.set_style('darkgrid')\n",
    "\n",
    "import scipy\n",
    "from scipy import special as s\n",
    "import pandas as pd\n",
    "import numpy\n",
    "import math\n",
    "from time import time"
   ]
  },
  {
   "cell_type": "code",
   "execution_count": 4,
   "id": "a9021c38",
   "metadata": {},
   "outputs": [],
   "source": [
    "cwd = os.getcwd()\n",
    "NOTEBOOK_DIR = os.path.dirname(cwd+'/')\n",
    "ROOT = os.path.dirname(NOTEBOOK_DIR)\n",
    "\n",
    "import sys\n",
    "sys.path.append(ROOT)"
   ]
  },
  {
   "cell_type": "code",
   "execution_count": 5,
   "id": "08500acc",
   "metadata": {},
   "outputs": [],
   "source": [
    "from utils.plot import *\n",
    "from utils.tools import *\n",
    "from utils.nn import TARGET_FUNCS_DICT, LOSS_DICT\n",
    "from networks import resnet"
   ]
  },
  {
   "cell_type": "markdown",
   "id": "5b06288d",
   "metadata": {},
   "source": [
    "# Constants"
   ]
  },
  {
   "cell_type": "code",
   "execution_count": 6,
   "id": "12fedbec",
   "metadata": {},
   "outputs": [],
   "source": [
    "INPUT_DIM = 20\n",
    "WIDTH = 256\n",
    "#D_MODEL = 128\n",
    "DEPTH = 10\n",
    "BIAS = False\n",
    "ALPHA = 1.0\n",
    "SCALE = 1.0\n",
    "ACTIVATION = 'relu'\n",
    "\n",
    "\n",
    "N_SAMPLES = 500\n",
    "N_TRIALS = 2\n",
    "BASE_LR = 1.0e-4"
   ]
  },
  {
   "cell_type": "code",
   "execution_count": null,
   "id": "cb19454d",
   "metadata": {},
   "outputs": [],
   "source": []
  }
 ],
 "metadata": {
  "kernelspec": {
   "display_name": "Python 3 (ipykernel)",
   "language": "python",
   "name": "python3"
  },
  "language_info": {
   "codemirror_mode": {
    "name": "ipython",
    "version": 3
   },
   "file_extension": ".py",
   "mimetype": "text/x-python",
   "name": "python",
   "nbconvert_exporter": "python",
   "pygments_lexer": "ipython3",
   "version": "3.9.7"
  }
 },
 "nbformat": 4,
 "nbformat_minor": 5
}
